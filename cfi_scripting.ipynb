{
  "nbformat": 4,
  "nbformat_minor": 0,
  "metadata": {
    "colab": {
      "provenance": []
    },
    "kernelspec": {
      "name": "python3",
      "display_name": "Python 3"
    },
    "language_info": {
      "name": "python"
    }
  },
  "cells": [
    {
      "cell_type": "code",
      "source": [
        "!pip install xlwt"
      ],
      "metadata": {
        "colab": {
          "base_uri": "https://localhost:8080/"
        },
        "id": "zuP-Y0gTLECH",
        "outputId": "742d2738-3ab0-49c8-bd5d-8c3cd1aa00fb"
      },
      "execution_count": null,
      "outputs": [
        {
          "output_type": "stream",
          "name": "stdout",
          "text": [
            "Collecting xlwt\n",
            "  Downloading xlwt-1.3.0-py2.py3-none-any.whl (99 kB)\n",
            "\u001b[2K     \u001b[90m━━━━━━━━━━━━━━━━━━━━━━━━━━━━━━━━━━━━━━━\u001b[0m \u001b[32m100.0/100.0 kB\u001b[0m \u001b[31m2.1 MB/s\u001b[0m eta \u001b[36m0:00:00\u001b[0m\n",
            "\u001b[?25hInstalling collected packages: xlwt\n",
            "Successfully installed xlwt-1.3.0\n"
          ]
        }
      ]
    },
    {
      "cell_type": "code",
      "execution_count": null,
      "metadata": {
        "colab": {
          "base_uri": "https://localhost:8080/"
        },
        "id": "ewZXSJdwBMlN",
        "outputId": "fc9ea2a1-5f8d-4409-b587-c3bd60a7ca77"
      },
      "outputs": [
        {
          "output_type": "stream",
          "name": "stdout",
          "text": [
            "https://cfi.iitm.ac.in/blog?search=cloud\n"
          ]
        }
      ],
      "source": [
        "from typing import no_type_check_decorator\n",
        "import requests\n",
        "from bs4 import BeautifulSoup\n",
        "import xlwt\n",
        "from xlwt import Workbook\n",
        "\n",
        "wb=Workbook()\n",
        "#Paste the link(from ev-database.org) of the car here and run the cell to generate excel sheet\n",
        "count=\"n\"\n",
        "#?search=cloud&tag=Cloud+computing&club=WebOps+and+Blockchain+Club\n",
        "text=\"cloud\"\n",
        "tag=\"\"#put in the exact tag{GraphQL, Data Structures and Algorithms, Cloud computing, HTML, Mern, Full stack development..........}\n",
        "club=\"\"# put in the exact club{3D printing, Aero Club, AI club(Analytics/CVI), Horizon, iBot, Electronics Club, BioTech Club........}\n",
        "text=text.replace(' ', '+')\n",
        "tag=tag.replace(' ', '+')\n",
        "club=club.replace(' ', '+')\n",
        "\n",
        "url=\"https://cfi.iitm.ac.in/blog\"\n",
        "if(len(text)!=0 or len(tag)!=0 or len(club)!=0):\n",
        "  url=url+\"?\"\n",
        "if(len(text)!=0):\n",
        "  url=url+\"search=\"+text\n",
        "  count=\"t\"\n",
        "if(len(tag)!=0):\n",
        "  if(count==\"t\"):\n",
        "    url=url+\"&tag=\"+tag\n",
        "  else:\n",
        "    url=url+\"tag=\"+tag\n",
        "  count=\"ta\"\n",
        "if(len(club)!=0):\n",
        "  if(count==\"t\" or count==\"ta\"):\n",
        "    url=url+\"&club=\"+club\n",
        "  else:\n",
        "    url=url+\"club=\"+club\n",
        "\n",
        "print(url)"
      ]
    },
    {
      "cell_type": "code",
      "source": [
        "!pip install selenium\n"
      ],
      "metadata": {
        "colab": {
          "base_uri": "https://localhost:8080/"
        },
        "id": "rMFyRwS9B-Hi",
        "outputId": "18c0dfd2-cfab-4dce-dcbf-63da92cfefcb"
      },
      "execution_count": null,
      "outputs": [
        {
          "output_type": "stream",
          "name": "stdout",
          "text": [
            "Requirement already satisfied: selenium in /usr/local/lib/python3.10/dist-packages (4.12.0)\n",
            "Requirement already satisfied: urllib3[socks]<3,>=1.26 in /usr/local/lib/python3.10/dist-packages (from selenium) (2.0.4)\n",
            "Requirement already satisfied: trio~=0.17 in /usr/local/lib/python3.10/dist-packages (from selenium) (0.22.2)\n",
            "Requirement already satisfied: trio-websocket~=0.9 in /usr/local/lib/python3.10/dist-packages (from selenium) (0.10.4)\n",
            "Requirement already satisfied: certifi>=2021.10.8 in /usr/local/lib/python3.10/dist-packages (from selenium) (2023.7.22)\n",
            "Requirement already satisfied: attrs>=20.1.0 in /usr/local/lib/python3.10/dist-packages (from trio~=0.17->selenium) (23.1.0)\n",
            "Requirement already satisfied: sortedcontainers in /usr/local/lib/python3.10/dist-packages (from trio~=0.17->selenium) (2.4.0)\n",
            "Requirement already satisfied: idna in /usr/local/lib/python3.10/dist-packages (from trio~=0.17->selenium) (3.4)\n",
            "Requirement already satisfied: outcome in /usr/local/lib/python3.10/dist-packages (from trio~=0.17->selenium) (1.2.0)\n",
            "Requirement already satisfied: sniffio in /usr/local/lib/python3.10/dist-packages (from trio~=0.17->selenium) (1.3.0)\n",
            "Requirement already satisfied: exceptiongroup>=1.0.0rc9 in /usr/local/lib/python3.10/dist-packages (from trio~=0.17->selenium) (1.1.3)\n",
            "Requirement already satisfied: wsproto>=0.14 in /usr/local/lib/python3.10/dist-packages (from trio-websocket~=0.9->selenium) (1.2.0)\n",
            "Requirement already satisfied: pysocks!=1.5.7,<2.0,>=1.5.6 in /usr/local/lib/python3.10/dist-packages (from urllib3[socks]<3,>=1.26->selenium) (1.7.1)\n",
            "Requirement already satisfied: h11<1,>=0.9.0 in /usr/local/lib/python3.10/dist-packages (from wsproto>=0.14->trio-websocket~=0.9->selenium) (0.14.0)\n"
          ]
        }
      ]
    },
    {
      "cell_type": "code",
      "source": [
        "from selenium import webdriver\n",
        "from selenium.webdriver.chrome.options import Options\n",
        "\n",
        "# Set up Chrome options (headless)\n",
        "chrome_options = Options()\n",
        "chrome_options.add_argument('--headless')\n",
        "chrome_options.add_argument('--no-sandbox')\n",
        "\n",
        "# Specify the ChromeDriver path (replace with the path to your ChromeDriver executable)\n",
        "chrome_driver_path = \"/usr/bin/chromedriver\"\n",
        "\n",
        "# Initialize the WebDriver with the specified ChromeDriver path and options\n",
        "driver = webdriver.Chrome(options=chrome_options)\n",
        "\n",
        "# Define the URL you want to scrape\n",
        "\n",
        "\n",
        "# Load the webpage\n",
        "driver.get(url)\n",
        "\n",
        "# Wait for the page to load (you may need to adjust the sleep time)\n",
        "import time\n",
        "time.sleep(5)\n",
        "\n",
        "# Get the page source\n",
        "page_source = driver.page_source\n",
        "\n",
        "# Parse the HTML using BeautifulSoup\n",
        "soup = BeautifulSoup(page_source, 'html.parser')\n",
        "#print(soup.prettify())\n",
        "h=soup.find(\"div\",class_=\"MuiCardContent-root css-1ceuuo3\")\n",
        "if(h==None):\n",
        "  print(\"No Blogs Added\")\n",
        "else:\n",
        "  k=h.find('a').get(\"href\")\n",
        "  url1=\"https://cfi.iitm.ac.in\"+k\n",
        "  print(url1)\n",
        "  # Extract information from the webpage (replace with your specific scraping logic)\n",
        "  # For example, let's print the titles of blog posts on the page\n",
        "  driver.get(url1)\n",
        "\n",
        "  # Wait for the page to load (you may need to adjust the sleep time)\n",
        "  time.sleep(5)\n",
        "\n",
        "  # Get the page source\n",
        "  page_source1 = driver.page_source\n",
        "\n",
        "  # Parse the HTML using BeautifulSoup\n",
        "  soup1 = BeautifulSoup(page_source1, 'html.parser')\n",
        "  #print(soup1.prettify())\n",
        "\n",
        "  matter=soup1.get_text()\n",
        "\n",
        "\n",
        "  print(matter)\n",
        "# Close the WebDriver\n",
        "driver.quit()\n"
      ],
      "metadata": {
        "colab": {
          "base_uri": "https://localhost:8080/"
        },
        "id": "2XewRcYzrxK1",
        "outputId": "e7cb2754-0865-4e1c-fd11-2456f5aeb5e0"
      },
      "execution_count": null,
      "outputs": [
        {
          "output_type": "stream",
          "name": "stdout",
          "text": [
            "https://cfi.iitm.ac.in/blog/new-blog-eCB4Nn0a8jqE\n",
            "Centre For Innovation | IIT MadrasGetting Started with Cloud ComputingJayanth K ae20b030WebOps and Blockchain Club September 10th, 2023Cloud computing364 views • 5 mins read;A beginner friendly article to help newbie developers understand what cloud computing is!Cloud Computing is the delivery-on-demand availability of computer resources including databases, servers, storage providers, etc., over the internet. Cloud computing is becoming popular among companies due to the low cost, high speed, security, performance, and flexibility it offers. Cloud computing has applications in various sectors like Agriculture, Aerospace, Finance, Healthcare, Education, and so on. To keep it simple, cloud computing is just running a piece of code on a computer infrastructure hosted by an organization.  \n",
            " \n",
            "Types of Cloud Computing \n",
            " \n",
            "There are three major services that a cloud services provider would offer: \n",
            "\n",
            "Platform as a Service (PaaS): This service offers an environment for developers to deploy their applications on cloud infrastructure. PaaS provides vital tools like programming languages, services, and storage provisions to developers and developers do not have to worry about server maintenance, and everything will be taken care of by the PaaS provider. \n",
            "Infrastructure as a Service (IaaS): IaaS provides essential features like servers, networking firewalls and security and data center, which drastically reduces the maintenance cost. The consumers will have to pay only for a particular resource used depending on usage time. \n",
            "Software as a Service (SaaS): SaaS is the provision of a complete application that is run and maintained by the cloud service provider. SaaS takes care of all the aspects related to the application including Hosting and deployment, business analytics, database management, and operating system. \n",
            "\n",
            " \n",
            "Advantages of Cloud Computing \n",
            " \n",
            "\n",
            "Cross-Device Support: Since data is stored on a dedicated cloud server, users can access their data through any of their devices, native apps and browsers. This helps in accessing files from any location seamlessly with spontaneous data backup and retrieval. \n",
            "Low Cost: Cloud service providers follow a ‘pay-as-you-go’ policy, which means companies will just have to bear the amount of time they’re using a particular resource. Since cloud service providers take care of the maintenance, companies do not have to worry about it. \n",
            "Security: The data which is stored on the cloud is highly encrypted and the cloud never permits unauthorized access to resources. So, privacy and security is maintained. \n",
            "Instant Deployment: With cloud expanding to various geographic locations, it is possible to go live within seconds. Cloud service providers offer an option to choose in which region the application has to be deployed. This helps in reducing latency.  \n",
            "Versatile storage provision: Cloud offers enormous versatility as far as storage is concerned. Files in any format including images, audio, video, documents can be stored in the storage providers. \n",
            "\n",
            " \n",
            " \n",
            "Cloud Computing Architecture\n",
            " \n",
            "Cloud computing architecture refers to the components that form a cloud application. This includes a client-side platform, backend platform, a delivery system and a network connection. The client infrastructure is taken care in the frontend, whereas storage, application management, cloud runtime and services are taken care of by the service provider.\n",
            " \n",
            "Deployment Models\n",
            " \n",
            "There are three predominant cloud computing deployment models: \n",
            "\n",
            "Private Cloud: These services are delivered from a data center to the internal users of an organization. A private cloud infrastructure is built and maintained by an organization to serve its own internal purposes. Some examples of Private Cloud are OpenStack and VMware.  \n",
            "Public Cloud: These services are provided by a third party service provider to the customers through the internet. Public cloud service providers charge the users only for the particular resource that was used. Some examples are AWS, Azure and GCP.\n",
            "Hybrid Cloud: This is a combination of private and public cloud with automation between the two. Companies run sensitive applications using private cloud and use public cloud to handle demand spikes. \n",
            "\n",
            " \n",
            "Conclusion \n",
            " \n",
            "Cloud computing would be one of the most important skills that one could possess in one’s arsenal. What else could be a better way than to learn cloud computing through hands-on experience? One such project could be to build an AdBlocker using cloud services. Refer to this tutorial. Insti students get access to free tier on Azure(worth $100) and GCP(worth $400). Happy Cloud Computing :)   CENTRE  For innovation  IIT Madras© 2023   All rights reservedDeveloped by Students of WebOps & Blockchain Club and Branding & Engagement Team, CFI.For any website related queries contact : Rasagnya | 6302854348\n"
          ]
        }
      ]
    },
    {
      "cell_type": "code",
      "source": [],
      "metadata": {
        "id": "BEwWiq6ZryM7"
      },
      "execution_count": null,
      "outputs": []
    }
  ]
}